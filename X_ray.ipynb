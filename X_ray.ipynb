{
  "cells": [
    {
      "cell_type": "markdown",
      "source": [
        "Download the dataset from the following link:\n",
        "https://www.kaggle.com/datasets/paultimothymooney/chest-xray-pneumonia?select=chest_xray"
      ],
      "metadata": {
        "id": "p9ZcIKKa09zZ"
      }
    },
    {
      "cell_type": "markdown",
      "metadata": {
        "id": "iviXf8g-Nt-e"
      },
      "source": [
        "# Part 1: Image loading and preprocessing"
      ]
    },
    {
      "cell_type": "code",
      "execution_count": 1,
      "metadata": {
        "id": "dHB4Amh4zi9g"
      },
      "outputs": [],
      "source": [
        "import zipfile\n",
        "import glob\n",
        "import cv2\n",
        "import matplotlib.pyplot as plt\n",
        "\n",
        "import numpy as np\n",
        "\n"
      ]
    },
    {
      "cell_type": "code",
      "execution_count": 2,
      "metadata": {
        "id": "Htrou8ItLDMJ"
      },
      "outputs": [],
      "source": [
        "def img_preprocess(img):\n",
        "  img=cv2.imread(img)\n",
        "  img= cv2.resize(img, (100,75))\n",
        "  img= img/255.0\n",
        "  return img"
      ]
    },
    {
      "cell_type": "code",
      "source": [
        "from google.colab import drive\n",
        "drive.mount('/content/drive')"
      ],
      "metadata": {
        "colab": {
          "base_uri": "https://localhost:8080/"
        },
        "id": "otmgocJ9-oV0",
        "outputId": "7c6ac547-5fab-4c33-ce53-910e8b81f8ab"
      },
      "execution_count": 3,
      "outputs": [
        {
          "output_type": "stream",
          "name": "stdout",
          "text": [
            "Drive already mounted at /content/drive; to attempt to forcibly remount, call drive.mount(\"/content/drive\", force_remount=True).\n"
          ]
        }
      ]
    },
    {
      "cell_type": "code",
      "execution_count": 4,
      "metadata": {
        "id": "1H4C11u4zrKA"
      },
      "outputs": [],
      "source": [
        "with zipfile.ZipFile('/content/drive/MyDrive/x-ray.zip', 'r') as zip_ref:\n",
        "    zip_ref.extractall('/content')"
      ]
    },
    {
      "cell_type": "markdown",
      "metadata": {
        "id": "ELVrqFOWOXaq"
      },
      "source": [
        "## Prepare training dataset and preprocess images"
      ]
    },
    {
      "cell_type": "code",
      "execution_count": 5,
      "metadata": {
        "id": "FeS4wK2z0q36"
      },
      "outputs": [],
      "source": [
        "normal_files_paths= glob.glob(r'/content/chest_xray/chest_xray/train/NORMAL/*.jpeg')\n",
        "pneu_files_paths= glob.glob(r'/content/chest_xray/chest_xray/train/PNEUMONIA/*.jpeg')\n"
      ]
    },
    {
      "cell_type": "code",
      "execution_count": 6,
      "metadata": {
        "id": "gkiFgf8D-gNN"
      },
      "outputs": [],
      "source": [
        "normal_files_paths_val=glob.glob(r'/content/chest_xray/chest_xray/val/NORMAL/*jpeg')\n",
        "pneu_files_paths_val=glob.glob(r'/content/chest_xray/chest_xray/val/PNEUMONIA/*jpeg')"
      ]
    },
    {
      "cell_type": "code",
      "execution_count": 7,
      "metadata": {
        "id": "JADAf6Bf-gNN"
      },
      "outputs": [],
      "source": [
        "normal_files_paths_test=glob.glob(r'/content/chest_xray/chest_xray/test/NORMAL/*jpeg')\n",
        "pneu_files_paths_test=glob.glob(r'/content/chest_xray/chest_xray/test/PNEUMONIA/*jpeg')"
      ]
    },
    {
      "cell_type": "code",
      "execution_count": 8,
      "metadata": {
        "id": "obMPouJE-gNQ"
      },
      "outputs": [],
      "source": [
        "normal_files_paths= normal_files_paths+normal_files_paths_test+normal_files_paths_val"
      ]
    },
    {
      "cell_type": "code",
      "execution_count": 9,
      "metadata": {
        "id": "nCkIw7UB-gNR"
      },
      "outputs": [],
      "source": [
        "pneu_files_paths=pneu_files_paths+pneu_files_paths_test+pneu_files_paths_val"
      ]
    },
    {
      "cell_type": "code",
      "execution_count": 10,
      "metadata": {
        "id": "Ri2wm7fv2gC8"
      },
      "outputs": [],
      "source": [
        "normal_images=[]\n",
        "\n",
        "\n",
        "for files in normal_files_paths:\n",
        "  img=img_preprocess(files)\n",
        "  normal_images.append(img)\n",
        "normal_images=np.array(normal_images)\n"
      ]
    },
    {
      "cell_type": "code",
      "execution_count": 11,
      "metadata": {
        "id": "WEBY00BF4sL9"
      },
      "outputs": [],
      "source": [
        "pneu_images=[]\n",
        "for files in pneu_files_paths:\n",
        "  img=img_preprocess(files)\n",
        "  pneu_images.append(img)\n",
        "pneu_images=np.array(pneu_images)"
      ]
    },
    {
      "cell_type": "code",
      "execution_count": 12,
      "metadata": {
        "colab": {
          "base_uri": "https://localhost:8080/"
        },
        "id": "3qQTkSsdWNEg",
        "outputId": "48c24714-2492-435c-84ff-c33c92e3a50f"
      },
      "outputs": [
        {
          "output_type": "execute_result",
          "data": {
            "text/plain": [
              "(5856, 75, 100, 3)"
            ]
          },
          "metadata": {},
          "execution_count": 12
        }
      ],
      "source": [
        "X=np.vstack((normal_images,pneu_images))\n",
        "X.shape"
      ]
    },
    {
      "cell_type": "code",
      "execution_count": 13,
      "metadata": {
        "id": "xCLhxm7T8N_H"
      },
      "outputs": [],
      "source": [
        "#create labels\n",
        "labels1= np.zeros(len(normal_files_paths))\n",
        "labels2 = np.ones(len(pneu_files_paths))\n",
        "y= np.hstack((labels1, labels2))\n",
        "\n"
      ]
    },
    {
      "cell_type": "markdown",
      "metadata": {
        "id": "mQomvHkDNlKZ"
      },
      "source": [
        "---\n",
        "#Part 2: Neural Network Part"
      ]
    },
    {
      "cell_type": "code",
      "execution_count": 14,
      "metadata": {
        "id": "mVGcqGAB4OoJ"
      },
      "outputs": [],
      "source": [
        "import tensorflow as tf\n",
        "from tensorflow.keras import datasets, layers, models\n",
        "from tensorflow.keras.optimizers import Adam\n",
        "from sklearn.model_selection import train_test_split\n",
        "from keras.utils import to_categorical\n",
        "from sklearn.metrics import accuracy_score, classification_report, confusion_matrix\n",
        "\n",
        "\n"
      ]
    },
    {
      "cell_type": "code",
      "execution_count": 15,
      "metadata": {
        "id": "e5ryR3ov-gNT"
      },
      "outputs": [],
      "source": [
        "\n",
        "y = to_categorical(y)"
      ]
    },
    {
      "cell_type": "code",
      "execution_count": 16,
      "metadata": {
        "id": "hwy9rvLS-gNT"
      },
      "outputs": [],
      "source": [
        "\n",
        "# First split to create training and test sets\n",
        "X_train, X_test, y_train, y_test = train_test_split(X, y, test_size=0.10, random_state=42)\n",
        "\n",
        "# Second split to create training and validation sets from the training set\n",
        "X_train, X_val, y_train, y_val = train_test_split(X_train, y_train, test_size=0.25, random_state=42)\n"
      ]
    },
    {
      "cell_type": "markdown",
      "metadata": {
        "id": "828OQ4F3NSx-"
      },
      "source": [
        "#test"
      ]
    },
    {
      "cell_type": "code",
      "execution_count": 17,
      "metadata": {
        "colab": {
          "base_uri": "https://localhost:8080/"
        },
        "id": "LiicuCEDNU10",
        "outputId": "3f403ca2-bce3-4275-cfbc-db07e28a2c2a"
      },
      "outputs": [
        {
          "output_type": "stream",
          "name": "stdout",
          "text": [
            "Model: \"sequential\"\n",
            "_________________________________________________________________\n",
            " Layer (type)                Output Shape              Param #   \n",
            "=================================================================\n",
            " conv2d (Conv2D)             (None, 73, 98, 30)        840       \n",
            "                                                                 \n",
            " max_pooling2d (MaxPooling2  (None, 36, 49, 30)        0         \n",
            " D)                                                              \n",
            "                                                                 \n",
            " conv2d_1 (Conv2D)           (None, 34, 47, 60)        16260     \n",
            "                                                                 \n",
            " max_pooling2d_1 (MaxPoolin  (None, 17, 23, 60)        0         \n",
            " g2D)                                                            \n",
            "                                                                 \n",
            " conv2d_2 (Conv2D)           (None, 15, 21, 120)       64920     \n",
            "                                                                 \n",
            " max_pooling2d_2 (MaxPoolin  (None, 7, 10, 120)        0         \n",
            " g2D)                                                            \n",
            "                                                                 \n",
            " flatten (Flatten)           (None, 8400)              0         \n",
            "                                                                 \n",
            " dense (Dense)               (None, 32)                268832    \n",
            "                                                                 \n",
            " dropout (Dropout)           (None, 32)                0         \n",
            "                                                                 \n",
            " dense_1 (Dense)             (None, 2)                 66        \n",
            "                                                                 \n",
            "=================================================================\n",
            "Total params: 350918 (1.34 MB)\n",
            "Trainable params: 350918 (1.34 MB)\n",
            "Non-trainable params: 0 (0.00 Byte)\n",
            "_________________________________________________________________\n",
            "None\n",
            "Epoch 1/12\n",
            "124/124 [==============================] - 10s 26ms/step - loss: 0.5612 - accuracy: 0.7368 - val_loss: 0.4233 - val_accuracy: 0.7853\n",
            "Epoch 2/12\n",
            "124/124 [==============================] - 2s 14ms/step - loss: 0.3583 - accuracy: 0.8396 - val_loss: 0.2941 - val_accuracy: 0.8627\n",
            "Epoch 3/12\n",
            "124/124 [==============================] - 2s 13ms/step - loss: 0.2941 - accuracy: 0.8682 - val_loss: 0.2567 - val_accuracy: 0.8930\n",
            "Epoch 4/12\n",
            "124/124 [==============================] - 2s 12ms/step - loss: 0.2553 - accuracy: 0.8892 - val_loss: 0.1971 - val_accuracy: 0.9355\n",
            "Epoch 5/12\n",
            "124/124 [==============================] - 2s 12ms/step - loss: 0.2398 - accuracy: 0.8907 - val_loss: 0.1909 - val_accuracy: 0.9234\n",
            "Epoch 6/12\n",
            "124/124 [==============================] - 2s 13ms/step - loss: 0.2248 - accuracy: 0.9092 - val_loss: 0.1752 - val_accuracy: 0.9385\n",
            "Epoch 7/12\n",
            "124/124 [==============================] - 2s 12ms/step - loss: 0.2136 - accuracy: 0.9223 - val_loss: 0.1539 - val_accuracy: 0.9423\n",
            "Epoch 8/12\n",
            "124/124 [==============================] - 2s 12ms/step - loss: 0.2082 - accuracy: 0.9238 - val_loss: 0.1523 - val_accuracy: 0.9431\n",
            "Epoch 9/12\n",
            "124/124 [==============================] - 2s 15ms/step - loss: 0.2049 - accuracy: 0.9281 - val_loss: 0.1476 - val_accuracy: 0.9484\n",
            "Epoch 10/12\n",
            "124/124 [==============================] - 2s 13ms/step - loss: 0.1920 - accuracy: 0.9317 - val_loss: 0.1524 - val_accuracy: 0.9454\n",
            "Epoch 11/12\n",
            "124/124 [==============================] - 2s 12ms/step - loss: 0.1870 - accuracy: 0.9347 - val_loss: 0.1904 - val_accuracy: 0.9188\n",
            "Epoch 12/12\n",
            "124/124 [==============================] - 1s 11ms/step - loss: 0.1905 - accuracy: 0.9291 - val_loss: 0.1417 - val_accuracy: 0.9514\n"
          ]
        }
      ],
      "source": [
        "#define Convolutional Neura Network\n",
        "def Conv_model():\n",
        "    model= models.Sequential()\n",
        "    model.add(layers.Conv2D(30,(3,3),input_shape=(75,100,3),activation='relu'))\n",
        "    model.add(layers.MaxPooling2D(pool_size=(2,2)))\n",
        "\n",
        "    model.add(layers.Conv2D(60, (3, 3), activation='relu'))\n",
        "    model.add(layers.MaxPooling2D(pool_size=(2, 2)))\n",
        "    model.add(layers.Conv2D(120, (3, 3), activation='relu'))\n",
        "    model.add(layers.MaxPooling2D(pool_size=(2, 2)))\n",
        "\n",
        "\n",
        "    model.add(layers.Flatten())\n",
        "    model.add(layers.Dense(32, activation='relu'))\n",
        "    model.add(layers.Dropout(0.5))\n",
        "    model.add(layers.Dense(2, activation='softmax'))\n",
        "    model.compile(optimizer=Adam(learning_rate=0.0001 ), loss='categorical_crossentropy', metrics=['accuracy'])\n",
        "    return model\n",
        "\n",
        "model= Conv_model()\n",
        "print(model.summary())\n",
        "\n",
        "history = model.fit(X_train, y_train, validation_data=(X_val, y_val), epochs=12)\n"
      ]
    },
    {
      "cell_type": "code",
      "execution_count": 18,
      "metadata": {
        "colab": {
          "base_uri": "https://localhost:8080/",
          "height": 489
        },
        "id": "VZjfezf0-gNU",
        "outputId": "883c20a8-11b2-4254-9421-831ea221c56a"
      },
      "outputs": [
        {
          "output_type": "execute_result",
          "data": {
            "text/plain": [
              "Text(0.5, 0, 'epoch')"
            ]
          },
          "metadata": {},
          "execution_count": 18
        },
        {
          "output_type": "display_data",
          "data": {
            "text/plain": [
              "<Figure size 640x480 with 1 Axes>"
            ],
            "image/png": "[encoded data removed]"
          },
          "metadata": {}
        }
      ],
      "source": [
        "#create chart of progress\n",
        "plt.plot(history.history['loss'])\n",
        "plt.plot(history.history['val_loss'])\n",
        "plt.title('Loss')\n",
        "plt.xlabel('epoch')"
      ]
    },
    {
      "cell_type": "code",
      "execution_count": 19,
      "metadata": {
        "colab": {
          "base_uri": "https://localhost:8080/",
          "height": 489
        },
        "id": "aBulKvUY-gNU",
        "outputId": "45ab66fa-170a-48b8-89ec-39c56a16d768"
      },
      "outputs": [
        {
          "output_type": "execute_result",
          "data": {
            "text/plain": [
              "Text(0.5, 0, 'epoch')"
            ]
          },
          "metadata": {},
          "execution_count": 19
        },
        {
          "output_type": "display_data",
          "data": {
            "text/plain": [
              "<Figure size 640x480 with 1 Axes>"
            ],
            "image/png": "[encoded data removed]"
          },
          "metadata": {}
        }
      ],
      "source": [
        "#Plot performance(accuracy) per epoch\n",
        "\n",
        "plt.plot(history.history['accuracy'])\n",
        "plt.plot(history.history['val_accuracy'])\n",
        "plt.legend(['training','test'])\n",
        "plt.title('Accuracy')\n",
        "plt.xlabel('epoch')"
      ]
    },
    {
      "cell_type": "code",
      "execution_count": 20,
      "metadata": {
        "id": "nKysQZxkPQZQ",
        "colab": {
          "base_uri": "https://localhost:8080/"
        },
        "outputId": "d7a60d98-483d-4feb-a16d-903b9d9198ce"
      },
      "outputs": [
        {
          "output_type": "stream",
          "name": "stdout",
          "text": [
            "19/19 [==============================] - 0s 13ms/step\n"
          ]
        }
      ],
      "source": [
        "# Assuming you have already imported the necessary libraries and trained your model\n",
        "\n",
        "# Test the model on the test set\n",
        "y_pred = model.predict(X_test)\n",
        "\n",
        "# Evaluate the model performance\n",
        "\n",
        "y_pred=np.argmax(y_pred, axis=1)\n",
        "y_test=np.argmax(y_test, axis=1)\n",
        "\n",
        "\n",
        "\n"
      ]
    },
    {
      "cell_type": "code",
      "execution_count": 21,
      "metadata": {
        "colab": {
          "base_uri": "https://localhost:8080/"
        },
        "id": "uzNj2oOb-gNV",
        "outputId": "0919daf4-aa89-4624-9c1d-e060ec998b62"
      },
      "outputs": [
        {
          "output_type": "stream",
          "name": "stdout",
          "text": [
            "Accuracy: 0.9522184300341296\n",
            "Classification Report:\n",
            "              precision    recall  f1-score   support\n",
            "\n",
            "           0       0.95      0.89      0.92       177\n",
            "           1       0.95      0.98      0.97       409\n",
            "\n",
            "    accuracy                           0.95       586\n",
            "   macro avg       0.95      0.93      0.94       586\n",
            "weighted avg       0.95      0.95      0.95       586\n",
            "\n",
            "Confusion Matrix:\n",
            "[[157  20]\n",
            " [  8 401]]\n"
          ]
        }
      ],
      "source": [
        "# Calculate accuracy\n",
        "accuracy = accuracy_score(y_test, y_pred)\n",
        "print(\"Accuracy:\", accuracy)\n",
        "\n",
        "# Generate classification report\n",
        "print(\"Classification Report:\")\n",
        "print(classification_report(y_test, y_pred))\n",
        "\n",
        "# Generate confusion matrix\n",
        "print(\"Confusion Matrix:\")\n",
        "print(confusion_matrix(y_test, y_pred))"
      ]
    },
    {
      "cell_type": "code",
      "execution_count": 22,
      "metadata": {
        "colab": {
          "base_uri": "https://localhost:8080/",
          "height": 564
        },
        "id": "o9p9juNG-gNV",
        "outputId": "cfbbcc4b-44df-45da-d9fd-6d350ca00f63"
      },
      "outputs": [
        {
          "output_type": "display_data",
          "data": {
            "text/plain": [
              "<Figure size 800x600 with 2 Axes>"
            ],
            "image/png": "[encoded data removed]"
          },
          "metadata": {}
        }
      ],
      "source": [
        "import seaborn as sns\n",
        "\n",
        "# Plot confusion matrix\n",
        "cm = confusion_matrix(y_test, y_pred)\n",
        "plt.figure(figsize=(8, 6))\n",
        "sns.heatmap(cm, annot=True, fmt=\"d\", cmap=\"Blues\")\n",
        "plt.xlabel('Predicted labels')\n",
        "plt.ylabel('True labels')\n",
        "plt.title('Confusion Matrix')\n",
        "plt.show()\n",
        "\n"
      ]
    },
    {
      "cell_type": "code",
      "execution_count": 22,
      "metadata": {
        "id": "rGJUqi9a-gNW"
      },
      "outputs": [],
      "source": []
    }
  ],
  "metadata": {
    "accelerator": "GPU",
    "colab": {
      "gpuType": "T4",
      "provenance": []
    },
    "kernelspec": {
      "display_name": "Python 3",
      "name": "python3"
    },
    "language_info": {
      "codemirror_mode": {
        "name": "ipython",
        "version": 3
      },
      "file_extension": ".py",
      "mimetype": "text/x-python",
      "name": "python",
      "nbconvert_exporter": "python",
      "pygments_lexer": "ipython3",
      "version": "3.9.16"
    }
  },
  "nbformat": 4,
  "nbformat_minor": 0
}